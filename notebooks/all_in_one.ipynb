{
 "cells": [
  {
   "metadata": {},
   "cell_type": "markdown",
   "source": [
    "### stage 0: install dependencies\n",
    "- Using `pip` to install the required packages.\n",
    "- Using mirrors to speed up the installation process.\n",
    "- the mirror from Tsinghua University is used here,like \" -i https://pypi.tuna.tsinghua.edu.cn/simple\""
   ],
   "id": "d82c9e89a92648d2"
  },
  {
   "metadata": {
    "ExecuteTime": {
     "end_time": "2025-04-27T13:59:33.577561Z",
     "start_time": "2025-04-27T13:59:28.747144Z"
    }
   },
   "cell_type": "code",
   "source": [
    "!pip install numpy\n",
    "!pip install pandas\n",
    "!pip install matplotlib\n",
    "!pip install seaborn\n",
    "!pip instlll holoviews\n",
    "!pip install scikit-learn\n",
    "!pip install xgboost\n",
    "!pip install lightgbm\n",
    "!pip install catboost\n",
    "!pip install optuna"
   ],
   "id": "ca0b322652b7a386",
   "outputs": [
    {
     "name": "stdout",
     "output_type": "stream",
     "text": [
      "Requirement already satisfied: numpy in /home/huangzhoujin/miniconda3/envs/study_ml/lib/python3.12/site-packages (2.2.5)\r\n",
      "Requirement already satisfied: pandas in /home/huangzhoujin/miniconda3/envs/study_ml/lib/python3.12/site-packages (2.2.3)\r\n",
      "Requirement already satisfied: numpy>=1.26.0 in /home/huangzhoujin/miniconda3/envs/study_ml/lib/python3.12/site-packages (from pandas) (2.2.5)\r\n",
      "Requirement already satisfied: python-dateutil>=2.8.2 in /home/huangzhoujin/miniconda3/envs/study_ml/lib/python3.12/site-packages (from pandas) (2.9.0.post0)\r\n",
      "Requirement already satisfied: pytz>=2020.1 in /home/huangzhoujin/miniconda3/envs/study_ml/lib/python3.12/site-packages (from pandas) (2025.2)\r\n",
      "Requirement already satisfied: tzdata>=2022.7 in /home/huangzhoujin/miniconda3/envs/study_ml/lib/python3.12/site-packages (from pandas) (2025.2)\r\n",
      "Requirement already satisfied: six>=1.5 in /home/huangzhoujin/miniconda3/envs/study_ml/lib/python3.12/site-packages (from python-dateutil>=2.8.2->pandas) (1.17.0)\r\n",
      "Requirement already satisfied: matplotlib in /home/huangzhoujin/miniconda3/envs/study_ml/lib/python3.12/site-packages (3.10.1)\r\n",
      "Requirement already satisfied: contourpy>=1.0.1 in /home/huangzhoujin/miniconda3/envs/study_ml/lib/python3.12/site-packages (from matplotlib) (1.3.2)\r\n",
      "Requirement already satisfied: cycler>=0.10 in /home/huangzhoujin/miniconda3/envs/study_ml/lib/python3.12/site-packages (from matplotlib) (0.12.1)\r\n",
      "Requirement already satisfied: fonttools>=4.22.0 in /home/huangzhoujin/miniconda3/envs/study_ml/lib/python3.12/site-packages (from matplotlib) (4.57.0)\r\n",
      "Requirement already satisfied: kiwisolver>=1.3.1 in /home/huangzhoujin/miniconda3/envs/study_ml/lib/python3.12/site-packages (from matplotlib) (1.4.8)\r\n",
      "Requirement already satisfied: numpy>=1.23 in /home/huangzhoujin/miniconda3/envs/study_ml/lib/python3.12/site-packages (from matplotlib) (2.2.5)\r\n",
      "Requirement already satisfied: packaging>=20.0 in /home/huangzhoujin/miniconda3/envs/study_ml/lib/python3.12/site-packages (from matplotlib) (25.0)\r\n",
      "Requirement already satisfied: pillow>=8 in /home/huangzhoujin/miniconda3/envs/study_ml/lib/python3.12/site-packages (from matplotlib) (11.2.1)\r\n",
      "Requirement already satisfied: pyparsing>=2.3.1 in /home/huangzhoujin/miniconda3/envs/study_ml/lib/python3.12/site-packages (from matplotlib) (3.2.3)\r\n",
      "Requirement already satisfied: python-dateutil>=2.7 in /home/huangzhoujin/miniconda3/envs/study_ml/lib/python3.12/site-packages (from matplotlib) (2.9.0.post0)\r\n",
      "Requirement already satisfied: six>=1.5 in /home/huangzhoujin/miniconda3/envs/study_ml/lib/python3.12/site-packages (from python-dateutil>=2.7->matplotlib) (1.17.0)\r\n",
      "Requirement already satisfied: seaborn in /home/huangzhoujin/miniconda3/envs/study_ml/lib/python3.12/site-packages (0.13.2)\r\n",
      "Requirement already satisfied: numpy!=1.24.0,>=1.20 in /home/huangzhoujin/miniconda3/envs/study_ml/lib/python3.12/site-packages (from seaborn) (2.2.5)\r\n",
      "Requirement already satisfied: pandas>=1.2 in /home/huangzhoujin/miniconda3/envs/study_ml/lib/python3.12/site-packages (from seaborn) (2.2.3)\r\n",
      "Requirement already satisfied: matplotlib!=3.6.1,>=3.4 in /home/huangzhoujin/miniconda3/envs/study_ml/lib/python3.12/site-packages (from seaborn) (3.10.1)\r\n",
      "Requirement already satisfied: contourpy>=1.0.1 in /home/huangzhoujin/miniconda3/envs/study_ml/lib/python3.12/site-packages (from matplotlib!=3.6.1,>=3.4->seaborn) (1.3.2)\r\n",
      "Requirement already satisfied: cycler>=0.10 in /home/huangzhoujin/miniconda3/envs/study_ml/lib/python3.12/site-packages (from matplotlib!=3.6.1,>=3.4->seaborn) (0.12.1)\r\n",
      "Requirement already satisfied: fonttools>=4.22.0 in /home/huangzhoujin/miniconda3/envs/study_ml/lib/python3.12/site-packages (from matplotlib!=3.6.1,>=3.4->seaborn) (4.57.0)\r\n",
      "Requirement already satisfied: kiwisolver>=1.3.1 in /home/huangzhoujin/miniconda3/envs/study_ml/lib/python3.12/site-packages (from matplotlib!=3.6.1,>=3.4->seaborn) (1.4.8)\r\n",
      "Requirement already satisfied: packaging>=20.0 in /home/huangzhoujin/miniconda3/envs/study_ml/lib/python3.12/site-packages (from matplotlib!=3.6.1,>=3.4->seaborn) (25.0)\r\n",
      "Requirement already satisfied: pillow>=8 in /home/huangzhoujin/miniconda3/envs/study_ml/lib/python3.12/site-packages (from matplotlib!=3.6.1,>=3.4->seaborn) (11.2.1)\r\n",
      "Requirement already satisfied: pyparsing>=2.3.1 in /home/huangzhoujin/miniconda3/envs/study_ml/lib/python3.12/site-packages (from matplotlib!=3.6.1,>=3.4->seaborn) (3.2.3)\r\n",
      "Requirement already satisfied: python-dateutil>=2.7 in /home/huangzhoujin/miniconda3/envs/study_ml/lib/python3.12/site-packages (from matplotlib!=3.6.1,>=3.4->seaborn) (2.9.0.post0)\r\n",
      "Requirement already satisfied: pytz>=2020.1 in /home/huangzhoujin/miniconda3/envs/study_ml/lib/python3.12/site-packages (from pandas>=1.2->seaborn) (2025.2)\r\n",
      "Requirement already satisfied: tzdata>=2022.7 in /home/huangzhoujin/miniconda3/envs/study_ml/lib/python3.12/site-packages (from pandas>=1.2->seaborn) (2025.2)\r\n",
      "Requirement already satisfied: six>=1.5 in /home/huangzhoujin/miniconda3/envs/study_ml/lib/python3.12/site-packages (from python-dateutil>=2.7->matplotlib!=3.6.1,>=3.4->seaborn) (1.17.0)\r\n",
      "ERROR: unknown command \"instlll\" - maybe you meant \"install\"\r\n",
      "Requirement already satisfied: scikit-learn in /home/huangzhoujin/miniconda3/envs/study_ml/lib/python3.12/site-packages (1.6.1)\r\n",
      "Requirement already satisfied: numpy>=1.19.5 in /home/huangzhoujin/miniconda3/envs/study_ml/lib/python3.12/site-packages (from scikit-learn) (2.2.5)\r\n",
      "Requirement already satisfied: scipy>=1.6.0 in /home/huangzhoujin/miniconda3/envs/study_ml/lib/python3.12/site-packages (from scikit-learn) (1.15.2)\r\n",
      "Requirement already satisfied: joblib>=1.2.0 in /home/huangzhoujin/miniconda3/envs/study_ml/lib/python3.12/site-packages (from scikit-learn) (1.4.2)\r\n",
      "Requirement already satisfied: threadpoolctl>=3.1.0 in /home/huangzhoujin/miniconda3/envs/study_ml/lib/python3.12/site-packages (from scikit-learn) (3.6.0)\r\n",
      "Requirement already satisfied: xgboost in /home/huangzhoujin/miniconda3/envs/study_ml/lib/python3.12/site-packages (3.0.0)\r\n",
      "Requirement already satisfied: numpy in /home/huangzhoujin/miniconda3/envs/study_ml/lib/python3.12/site-packages (from xgboost) (2.2.5)\r\n",
      "Requirement already satisfied: nvidia-nccl-cu12 in /home/huangzhoujin/miniconda3/envs/study_ml/lib/python3.12/site-packages (from xgboost) (2.26.2.post1)\r\n",
      "Requirement already satisfied: scipy in /home/huangzhoujin/miniconda3/envs/study_ml/lib/python3.12/site-packages (from xgboost) (1.15.2)\r\n",
      "Requirement already satisfied: lightgbm in /home/huangzhoujin/miniconda3/envs/study_ml/lib/python3.12/site-packages (4.6.0)\r\n",
      "Requirement already satisfied: numpy>=1.17.0 in /home/huangzhoujin/miniconda3/envs/study_ml/lib/python3.12/site-packages (from lightgbm) (2.2.5)\r\n",
      "Requirement already satisfied: scipy in /home/huangzhoujin/miniconda3/envs/study_ml/lib/python3.12/site-packages (from lightgbm) (1.15.2)\r\n",
      "Requirement already satisfied: catboost in /home/huangzhoujin/miniconda3/envs/study_ml/lib/python3.12/site-packages (1.2.8)\r\n",
      "Requirement already satisfied: graphviz in /home/huangzhoujin/miniconda3/envs/study_ml/lib/python3.12/site-packages (from catboost) (0.20.3)\r\n",
      "Requirement already satisfied: matplotlib in /home/huangzhoujin/miniconda3/envs/study_ml/lib/python3.12/site-packages (from catboost) (3.10.1)\r\n",
      "Requirement already satisfied: numpy<3.0,>=1.16.0 in /home/huangzhoujin/miniconda3/envs/study_ml/lib/python3.12/site-packages (from catboost) (2.2.5)\r\n",
      "Requirement already satisfied: pandas>=0.24 in /home/huangzhoujin/miniconda3/envs/study_ml/lib/python3.12/site-packages (from catboost) (2.2.3)\r\n",
      "Requirement already satisfied: scipy in /home/huangzhoujin/miniconda3/envs/study_ml/lib/python3.12/site-packages (from catboost) (1.15.2)\r\n",
      "Requirement already satisfied: plotly in /home/huangzhoujin/miniconda3/envs/study_ml/lib/python3.12/site-packages (from catboost) (6.0.1)\r\n",
      "Requirement already satisfied: six in /home/huangzhoujin/miniconda3/envs/study_ml/lib/python3.12/site-packages (from catboost) (1.17.0)\r\n",
      "Requirement already satisfied: python-dateutil>=2.8.2 in /home/huangzhoujin/miniconda3/envs/study_ml/lib/python3.12/site-packages (from pandas>=0.24->catboost) (2.9.0.post0)\r\n",
      "Requirement already satisfied: pytz>=2020.1 in /home/huangzhoujin/miniconda3/envs/study_ml/lib/python3.12/site-packages (from pandas>=0.24->catboost) (2025.2)\r\n",
      "Requirement already satisfied: tzdata>=2022.7 in /home/huangzhoujin/miniconda3/envs/study_ml/lib/python3.12/site-packages (from pandas>=0.24->catboost) (2025.2)\r\n",
      "Requirement already satisfied: contourpy>=1.0.1 in /home/huangzhoujin/miniconda3/envs/study_ml/lib/python3.12/site-packages (from matplotlib->catboost) (1.3.2)\r\n",
      "Requirement already satisfied: cycler>=0.10 in /home/huangzhoujin/miniconda3/envs/study_ml/lib/python3.12/site-packages (from matplotlib->catboost) (0.12.1)\r\n",
      "Requirement already satisfied: fonttools>=4.22.0 in /home/huangzhoujin/miniconda3/envs/study_ml/lib/python3.12/site-packages (from matplotlib->catboost) (4.57.0)\r\n",
      "Requirement already satisfied: kiwisolver>=1.3.1 in /home/huangzhoujin/miniconda3/envs/study_ml/lib/python3.12/site-packages (from matplotlib->catboost) (1.4.8)\r\n",
      "Requirement already satisfied: packaging>=20.0 in /home/huangzhoujin/miniconda3/envs/study_ml/lib/python3.12/site-packages (from matplotlib->catboost) (25.0)\r\n",
      "Requirement already satisfied: pillow>=8 in /home/huangzhoujin/miniconda3/envs/study_ml/lib/python3.12/site-packages (from matplotlib->catboost) (11.2.1)\r\n",
      "Requirement already satisfied: pyparsing>=2.3.1 in /home/huangzhoujin/miniconda3/envs/study_ml/lib/python3.12/site-packages (from matplotlib->catboost) (3.2.3)\r\n",
      "Requirement already satisfied: narwhals>=1.15.1 in /home/huangzhoujin/miniconda3/envs/study_ml/lib/python3.12/site-packages (from plotly->catboost) (1.36.0)\r\n",
      "Requirement already satisfied: optuna in /home/huangzhoujin/miniconda3/envs/study_ml/lib/python3.12/site-packages (4.3.0)\r\n",
      "Requirement already satisfied: alembic>=1.5.0 in /home/huangzhoujin/miniconda3/envs/study_ml/lib/python3.12/site-packages (from optuna) (1.15.2)\r\n",
      "Requirement already satisfied: colorlog in /home/huangzhoujin/miniconda3/envs/study_ml/lib/python3.12/site-packages (from optuna) (6.9.0)\r\n",
      "Requirement already satisfied: numpy in /home/huangzhoujin/miniconda3/envs/study_ml/lib/python3.12/site-packages (from optuna) (2.2.5)\r\n",
      "Requirement already satisfied: packaging>=20.0 in /home/huangzhoujin/miniconda3/envs/study_ml/lib/python3.12/site-packages (from optuna) (25.0)\r\n",
      "Requirement already satisfied: sqlalchemy>=1.4.2 in /home/huangzhoujin/miniconda3/envs/study_ml/lib/python3.12/site-packages (from optuna) (2.0.40)\r\n",
      "Requirement already satisfied: tqdm in /home/huangzhoujin/miniconda3/envs/study_ml/lib/python3.12/site-packages (from optuna) (4.67.1)\r\n",
      "Requirement already satisfied: PyYAML in /home/huangzhoujin/miniconda3/envs/study_ml/lib/python3.12/site-packages (from optuna) (6.0.2)\r\n",
      "Requirement already satisfied: Mako in /home/huangzhoujin/miniconda3/envs/study_ml/lib/python3.12/site-packages (from alembic>=1.5.0->optuna) (1.3.10)\r\n",
      "Requirement already satisfied: typing-extensions>=4.12 in /home/huangzhoujin/miniconda3/envs/study_ml/lib/python3.12/site-packages (from alembic>=1.5.0->optuna) (4.13.2)\r\n",
      "Requirement already satisfied: greenlet>=1 in /home/huangzhoujin/miniconda3/envs/study_ml/lib/python3.12/site-packages (from sqlalchemy>=1.4.2->optuna) (3.2.1)\r\n",
      "Requirement already satisfied: MarkupSafe>=0.9.2 in /home/huangzhoujin/miniconda3/envs/study_ml/lib/python3.12/site-packages (from Mako->alembic>=1.5.0->optuna) (3.0.2)\r\n"
     ]
    }
   ],
   "execution_count": 5
  },
  {
   "metadata": {},
   "cell_type": "code",
   "outputs": [],
   "execution_count": null,
   "source": "",
   "id": "356000d8645daa1f"
  }
 ],
 "metadata": {
  "kernelspec": {
   "display_name": "Python 3",
   "language": "python",
   "name": "python3"
  },
  "language_info": {
   "codemirror_mode": {
    "name": "ipython",
    "version": 2
   },
   "file_extension": ".py",
   "mimetype": "text/x-python",
   "name": "python",
   "nbconvert_exporter": "python",
   "pygments_lexer": "ipython2",
   "version": "2.7.6"
  }
 },
 "nbformat": 4,
 "nbformat_minor": 5
}
