{
 "cells": [
  {
   "metadata": {},
   "cell_type": "markdown",
   "source": "### stage 0: install dependencies",
   "id": "d82c9e89a92648d2"
  },
  {
   "metadata": {
    "jupyter": {
     "is_executing": true
    },
    "ExecuteTime": {
     "start_time": "2025-04-27T12:45:53.016897Z"
    }
   },
   "cell_type": "code",
   "source": [
    "!pip install numpy\n",
    "!pip install pandas\n",
    "!pip install matplotlib\n",
    "!pip install seaborn\n",
    "!pip instlll holoviews\n",
    "!pip install scikit-learn\n",
    "!pip install xgboost\n",
    "!pip install lightgbm\n",
    "!pip install catboost\n",
    "!pip install optuna"
   ],
   "id": "ca0b322652b7a386",
   "outputs": [
    {
     "name": "stdout",
     "output_type": "stream",
     "text": [
      "Requirement already satisfied: numpy in /home/huangzhoujin/miniconda3/envs/study_ml/lib/python3.12/site-packages (2.2.5)\r\n",
      "Collecting pandas\r\n",
      "  Downloading pandas-2.2.3-cp312-cp312-manylinux_2_17_x86_64.manylinux2014_x86_64.whl.metadata (89 kB)\r\n",
      "Requirement already satisfied: numpy>=1.26.0 in /home/huangzhoujin/miniconda3/envs/study_ml/lib/python3.12/site-packages (from pandas) (2.2.5)\r\n",
      "Requirement already satisfied: python-dateutil>=2.8.2 in /home/huangzhoujin/miniconda3/envs/study_ml/lib/python3.12/site-packages (from pandas) (2.9.0.post0)\r\n",
      "Collecting pytz>=2020.1 (from pandas)\r\n",
      "  Downloading pytz-2025.2-py2.py3-none-any.whl.metadata (22 kB)\r\n",
      "Collecting tzdata>=2022.7 (from pandas)\r\n",
      "  Downloading tzdata-2025.2-py2.py3-none-any.whl.metadata (1.4 kB)\r\n",
      "Requirement already satisfied: six>=1.5 in /home/huangzhoujin/miniconda3/envs/study_ml/lib/python3.12/site-packages (from python-dateutil>=2.8.2->pandas) (1.17.0)\r\n",
      "Downloading pandas-2.2.3-cp312-cp312-manylinux_2_17_x86_64.manylinux2014_x86_64.whl (12.7 MB)\r\n",
      "\u001B[2K   \u001B[90m━━━━━━━━━━━━━━━━━━━━━━━━━━━━━━━━━━━━━━━━\u001B[0m \u001B[32m12.7/12.7 MB\u001B[0m \u001B[31m191.4 kB/s\u001B[0m eta \u001B[36m0:00:00\u001B[0m00:01\u001B[0m00:03\u001B[0m\r\n",
      "\u001B[?25hDownloading pytz-2025.2-py2.py3-none-any.whl (509 kB)\r\n",
      "Downloading tzdata-2025.2-py2.py3-none-any.whl (347 kB)\r\n",
      "Installing collected packages: pytz, tzdata, pandas\r\n",
      "\u001B[2K   \u001B[90m━━━━━━━━━━━━━━━━━━━━━━━━━━━━━━━━━━━━━━━━\u001B[0m \u001B[32m3/3\u001B[0m [pandas]2m2/3\u001B[0m [pandas]\r\n",
      "\u001B[1A\u001B[2KSuccessfully installed pandas-2.2.3 pytz-2025.2 tzdata-2025.2\r\n",
      "Collecting matplotlib\r\n",
      "  Downloading matplotlib-3.10.1-cp312-cp312-manylinux_2_17_x86_64.manylinux2014_x86_64.whl.metadata (11 kB)\r\n",
      "Collecting contourpy>=1.0.1 (from matplotlib)\r\n",
      "  Downloading contourpy-1.3.2-cp312-cp312-manylinux_2_17_x86_64.manylinux2014_x86_64.whl.metadata (5.5 kB)\r\n",
      "Collecting cycler>=0.10 (from matplotlib)\r\n",
      "  Downloading cycler-0.12.1-py3-none-any.whl.metadata (3.8 kB)\r\n",
      "Collecting fonttools>=4.22.0 (from matplotlib)\r\n",
      "  Downloading fonttools-4.57.0-cp312-cp312-manylinux_2_5_x86_64.manylinux1_x86_64.manylinux_2_17_x86_64.manylinux2014_x86_64.whl.metadata (102 kB)\r\n",
      "Collecting kiwisolver>=1.3.1 (from matplotlib)\r\n",
      "  Downloading kiwisolver-1.4.8-cp312-cp312-manylinux_2_17_x86_64.manylinux2014_x86_64.whl.metadata (6.2 kB)\r\n",
      "Requirement already satisfied: numpy>=1.23 in /home/huangzhoujin/miniconda3/envs/study_ml/lib/python3.12/site-packages (from matplotlib) (2.2.5)\r\n",
      "Requirement already satisfied: packaging>=20.0 in /home/huangzhoujin/miniconda3/envs/study_ml/lib/python3.12/site-packages (from matplotlib) (25.0)\r\n",
      "Collecting pillow>=8 (from matplotlib)\r\n",
      "  Downloading pillow-11.2.1-cp312-cp312-manylinux_2_28_x86_64.whl.metadata (8.9 kB)\r\n",
      "Collecting pyparsing>=2.3.1 (from matplotlib)\r\n",
      "  Downloading pyparsing-3.2.3-py3-none-any.whl.metadata (5.0 kB)\r\n",
      "Requirement already satisfied: python-dateutil>=2.7 in /home/huangzhoujin/miniconda3/envs/study_ml/lib/python3.12/site-packages (from matplotlib) (2.9.0.post0)\r\n",
      "Requirement already satisfied: six>=1.5 in /home/huangzhoujin/miniconda3/envs/study_ml/lib/python3.12/site-packages (from python-dateutil>=2.7->matplotlib) (1.17.0)\r\n",
      "Downloading matplotlib-3.10.1-cp312-cp312-manylinux_2_17_x86_64.manylinux2014_x86_64.whl (8.6 MB)\r\n",
      "\u001B[2K   \u001B[90m━━━━━━━━━━━━━━━━━━━━━━━━━━━━━━━━━━━━━━━━\u001B[0m \u001B[32m8.6/8.6 MB\u001B[0m \u001B[31m202.9 kB/s\u001B[0m eta \u001B[36m0:00:00\u001B[0m00:01\u001B[0m00:03\u001B[0m\r\n",
      "\u001B[?25hDownloading contourpy-1.3.2-cp312-cp312-manylinux_2_17_x86_64.manylinux2014_x86_64.whl (323 kB)\r\n",
      "Downloading cycler-0.12.1-py3-none-any.whl (8.3 kB)\r\n",
      "Downloading fonttools-4.57.0-cp312-cp312-manylinux_2_5_x86_64.manylinux1_x86_64.manylinux_2_17_x86_64.manylinux2014_x86_64.whl (4.9 MB)\r\n",
      "\u001B[2K   \u001B[90m━━━━━━━━━━━━━━━━━━━━━━━━━━━━━━━━━━━━━━━━\u001B[0m \u001B[32m4.9/4.9 MB\u001B[0m \u001B[31m171.1 kB/s\u001B[0m eta \u001B[36m0:00:00\u001B[0ma \u001B[36m0:00:01\u001B[0m\r\n",
      "\u001B[?25hDownloading kiwisolver-1.4.8-cp312-cp312-manylinux_2_17_x86_64.manylinux2014_x86_64.whl (1.5 MB)\r\n",
      "\u001B[2K   \u001B[90m━━━━━━━━━━━━━━━━━━━━━━━━━━━━━━━━━━━━━━━━\u001B[0m \u001B[32m1.5/1.5 MB\u001B[0m \u001B[31m211.9 kB/s\u001B[0m eta \u001B[36m0:00:00\u001B[0ma \u001B[36m0:00:01\u001B[0m\r\n",
      "\u001B[?25hDownloading pillow-11.2.1-cp312-cp312-manylinux_2_28_x86_64.whl (4.6 MB)\r\n",
      "\u001B[2K   \u001B[90m━━━━━━━━━━━━━━━━━━━━━━━━━━━━━━━━━━━━━━━━\u001B[0m \u001B[32m4.6/4.6 MB\u001B[0m \u001B[31m219.4 kB/s\u001B[0m eta \u001B[36m0:00:00\u001B[0ma \u001B[36m0:00:01\u001B[0m\r\n",
      "\u001B[?25hDownloading pyparsing-3.2.3-py3-none-any.whl (111 kB)\r\n",
      "Installing collected packages: pyparsing, pillow, kiwisolver, fonttools, cycler, contourpy, matplotlib\r\n",
      "\u001B[2K   \u001B[90m━━━━━━━━━━━━━━━━━━━━━━━━━━━━━━━━━━━━━━━━\u001B[0m \u001B[32m7/7\u001B[0m [matplotlib]7\u001B[0m [matplotlib]\r\n",
      "\u001B[1A\u001B[2KSuccessfully installed contourpy-1.3.2 cycler-0.12.1 fonttools-4.57.0 kiwisolver-1.4.8 matplotlib-3.10.1 pillow-11.2.1 pyparsing-3.2.3\r\n",
      "Collecting seaborn\r\n",
      "  Downloading seaborn-0.13.2-py3-none-any.whl.metadata (5.4 kB)\r\n",
      "Requirement already satisfied: numpy!=1.24.0,>=1.20 in /home/huangzhoujin/miniconda3/envs/study_ml/lib/python3.12/site-packages (from seaborn) (2.2.5)\r\n",
      "Requirement already satisfied: pandas>=1.2 in /home/huangzhoujin/miniconda3/envs/study_ml/lib/python3.12/site-packages (from seaborn) (2.2.3)\r\n",
      "Requirement already satisfied: matplotlib!=3.6.1,>=3.4 in /home/huangzhoujin/miniconda3/envs/study_ml/lib/python3.12/site-packages (from seaborn) (3.10.1)\r\n",
      "Requirement already satisfied: contourpy>=1.0.1 in /home/huangzhoujin/miniconda3/envs/study_ml/lib/python3.12/site-packages (from matplotlib!=3.6.1,>=3.4->seaborn) (1.3.2)\r\n",
      "Requirement already satisfied: cycler>=0.10 in /home/huangzhoujin/miniconda3/envs/study_ml/lib/python3.12/site-packages (from matplotlib!=3.6.1,>=3.4->seaborn) (0.12.1)\r\n",
      "Requirement already satisfied: fonttools>=4.22.0 in /home/huangzhoujin/miniconda3/envs/study_ml/lib/python3.12/site-packages (from matplotlib!=3.6.1,>=3.4->seaborn) (4.57.0)\r\n",
      "Requirement already satisfied: kiwisolver>=1.3.1 in /home/huangzhoujin/miniconda3/envs/study_ml/lib/python3.12/site-packages (from matplotlib!=3.6.1,>=3.4->seaborn) (1.4.8)\r\n",
      "Requirement already satisfied: packaging>=20.0 in /home/huangzhoujin/miniconda3/envs/study_ml/lib/python3.12/site-packages (from matplotlib!=3.6.1,>=3.4->seaborn) (25.0)\r\n",
      "Requirement already satisfied: pillow>=8 in /home/huangzhoujin/miniconda3/envs/study_ml/lib/python3.12/site-packages (from matplotlib!=3.6.1,>=3.4->seaborn) (11.2.1)\r\n",
      "Requirement already satisfied: pyparsing>=2.3.1 in /home/huangzhoujin/miniconda3/envs/study_ml/lib/python3.12/site-packages (from matplotlib!=3.6.1,>=3.4->seaborn) (3.2.3)\r\n",
      "Requirement already satisfied: python-dateutil>=2.7 in /home/huangzhoujin/miniconda3/envs/study_ml/lib/python3.12/site-packages (from matplotlib!=3.6.1,>=3.4->seaborn) (2.9.0.post0)\r\n",
      "Requirement already satisfied: pytz>=2020.1 in /home/huangzhoujin/miniconda3/envs/study_ml/lib/python3.12/site-packages (from pandas>=1.2->seaborn) (2025.2)\r\n",
      "Requirement already satisfied: tzdata>=2022.7 in /home/huangzhoujin/miniconda3/envs/study_ml/lib/python3.12/site-packages (from pandas>=1.2->seaborn) (2025.2)\r\n",
      "Requirement already satisfied: six>=1.5 in /home/huangzhoujin/miniconda3/envs/study_ml/lib/python3.12/site-packages (from python-dateutil>=2.7->matplotlib!=3.6.1,>=3.4->seaborn) (1.17.0)\r\n",
      "Downloading seaborn-0.13.2-py3-none-any.whl (294 kB)\r\n",
      "Installing collected packages: seaborn\r\n",
      "Successfully installed seaborn-0.13.2\r\n",
      "ERROR: unknown command \"instlll\" - maybe you meant \"install\"\r\n",
      "Collecting scikit-learn\r\n",
      "  Downloading scikit_learn-1.6.1-cp312-cp312-manylinux_2_17_x86_64.manylinux2014_x86_64.whl.metadata (18 kB)\r\n",
      "Requirement already satisfied: numpy>=1.19.5 in /home/huangzhoujin/miniconda3/envs/study_ml/lib/python3.12/site-packages (from scikit-learn) (2.2.5)\r\n",
      "Collecting scipy>=1.6.0 (from scikit-learn)\r\n",
      "  Downloading scipy-1.15.2-cp312-cp312-manylinux_2_17_x86_64.manylinux2014_x86_64.whl.metadata (61 kB)\r\n",
      "Collecting joblib>=1.2.0 (from scikit-learn)\r\n",
      "  Downloading joblib-1.4.2-py3-none-any.whl.metadata (5.4 kB)\r\n",
      "Collecting threadpoolctl>=3.1.0 (from scikit-learn)\r\n",
      "  Downloading threadpoolctl-3.6.0-py3-none-any.whl.metadata (13 kB)\r\n",
      "Downloading scikit_learn-1.6.1-cp312-cp312-manylinux_2_17_x86_64.manylinux2014_x86_64.whl (13.1 MB)\r\n",
      "\u001B[2K   \u001B[90m━━━━━━━━━━━━━━━━━━━━━━━━━━━━━━━━━━━━━━━━\u001B[0m \u001B[32m13.1/13.1 MB\u001B[0m \u001B[31m136.7 kB/s\u001B[0m eta \u001B[36m0:00:00\u001B[0m00:01\u001B[0m00:05\u001B[0m\r\n",
      "\u001B[?25hDownloading joblib-1.4.2-py3-none-any.whl (301 kB)\r\n",
      "Downloading scipy-1.15.2-cp312-cp312-manylinux_2_17_x86_64.manylinux2014_x86_64.whl (37.3 MB)\r\n",
      "\u001B[2K   \u001B[91m━━━━━━━━━━━━━━━━━━━━━━━━━━━━━\u001B[0m\u001B[90m╺\u001B[0m\u001B[90m━━━━━━━━━━\u001B[0m \u001B[32m27.3/37.3 MB\u001B[0m \u001B[31m147.2 kB/s\u001B[0m eta \u001B[36m0:01:09\u001B[0m"
     ]
    }
   ],
   "execution_count": null
  },
  {
   "metadata": {},
   "cell_type": "code",
   "outputs": [],
   "execution_count": null,
   "source": "",
   "id": "356000d8645daa1f"
  }
 ],
 "metadata": {
  "kernelspec": {
   "display_name": "Python 3",
   "language": "python",
   "name": "python3"
  },
  "language_info": {
   "codemirror_mode": {
    "name": "ipython",
    "version": 2
   },
   "file_extension": ".py",
   "mimetype": "text/x-python",
   "name": "python",
   "nbconvert_exporter": "python",
   "pygments_lexer": "ipython2",
   "version": "2.7.6"
  }
 },
 "nbformat": 4,
 "nbformat_minor": 5
}
