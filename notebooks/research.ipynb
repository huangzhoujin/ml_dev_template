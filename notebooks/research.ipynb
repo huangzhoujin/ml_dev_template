{
 "cells": [
  {
   "metadata": {},
   "cell_type": "markdown",
   "source": [
    "### stage 0: install dependencies\n",
    "- Using `pip` to install the required packages.\n",
    "- Using mirrors to speed up the installation process.\n",
    "- the mirror from Tsinghua University is used here,like \" -i https://pypi.tuna.tsinghua.edu.cn/simple\""
   ],
   "id": "d82c9e89a92648d2"
  },
  {
   "metadata": {
    "ExecuteTime": {
     "end_time": "2025-06-15T04:24:31.657816Z",
     "start_time": "2025-06-15T04:24:31.318200Z"
    }
   },
   "cell_type": "code",
   "source": "!uv pip install ../.",
   "id": "ca0b322652b7a386",
   "outputs": [
    {
     "name": "stdout",
     "output_type": "stream",
     "text": [
      "\u001B[2mUsing Python 3.12.3 environment at: /home/huangzhoujin/Source/PycharmProjects/ml_dev_template/.venv\u001B[0m\r\n",
      "\u001B[2K\u001B[2mResolved \u001B[1m178 packages\u001B[0m \u001B[2min 20ms\u001B[0m\u001B[0m                                        \u001B[0m\r\n",
      "\u001B[2K\u001B[2mPrepared \u001B[1m1 package\u001B[0m \u001B[2min 130ms\u001B[0m\u001B[0m                                              \r\n",
      "\u001B[2mUninstalled \u001B[1m1 package\u001B[0m \u001B[2min 0.28ms\u001B[0m\u001B[0m\r\n",
      "\u001B[2K\u001B[2mInstalled \u001B[1m1 package\u001B[0m \u001B[2min 0.31ms\u001B[0m\u001B[0m (from file:///home/huangzhouji\u001B[0m\r\n",
      " \u001B[33m~\u001B[39m \u001B[1mml-dev-template\u001B[0m\u001B[2m==0.0.1 (from file:///home/huangzhoujin/Source/PycharmProjects/ml_dev_template)\u001B[0m\r\n"
     ]
    }
   ],
   "execution_count": 4
  },
  {
   "metadata": {},
   "cell_type": "markdown",
   "source": "### stage 1: import libraries",
   "id": "912c29bfae9b241c"
  },
  {
   "metadata": {},
   "cell_type": "code",
   "outputs": [],
   "execution_count": null,
   "source": [
    "import holoviews as hv\n",
    "import matplotlib.pyplot as plt\n",
    "import numpy as np\n",
    "# --- import data processing libraries\n",
    "import pandas as pd\n",
    "# --- import visualization libraries\n",
    "import seaborn as sns\n",
    "# _*_ coding: utf-8 -*-\n",
    "import time\n",
    "from holoviews import dim\n",
    "from holoviews import opts\n",
    "\n",
    "hv.extension('bokeh')\n",
    "\n",
    "# --- import machine learning libraries\n",
    "from sklearn.model_selection import train_test_split\n",
    "from sklearn.metrics import accuracy_score, classification_report, confusion_matrix, \\\n",
    "    roc_auc_score, roc_curve, precision_score, recall_score, f1_score, mean_squared_error\n",
    "\n",
    "# --- import machine learning libraries\n",
    "from xgboost import XGBClassifier\n",
    "from xgboost import XGBRegressor\n",
    "from catboost import CatBoostClassifier\n",
    "from catboost import CatBoostRegressor\n",
    "from sklearn.tree import DecisionTreeClassifier\n",
    "from sklearn.tree import DecisionTreeRegressor\n",
    "from sklearn.ensemble import RandomForestClassifier\n",
    "from sklearn.ensemble import RandomForestRegressor\n",
    "\n",
    "# --- import hyperparameter tuning libraries\n",
    "import optuna\n",
    "from sklearn.model_selection import GridSearchCV, RandomizedSearchCV, cross_val_score\n",
    "\n",
    "# --- import data augmentation libraries\n",
    "from sklearn.preprocessing import PolynomialFeatures"
   ],
   "id": "710a12171440fc55"
  }
 ],
 "metadata": {
  "kernelspec": {
   "display_name": "Python 3",
   "language": "python",
   "name": "python3"
  },
  "language_info": {
   "codemirror_mode": {
    "name": "ipython",
    "version": 2
   },
   "file_extension": ".py",
   "mimetype": "text/x-python",
   "name": "python",
   "nbconvert_exporter": "python",
   "pygments_lexer": "ipython2",
   "version": "2.7.6"
  }
 },
 "nbformat": 4,
 "nbformat_minor": 5
}
